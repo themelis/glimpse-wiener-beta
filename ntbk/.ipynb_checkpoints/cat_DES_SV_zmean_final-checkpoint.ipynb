{
 "cells": [
  {
   "cell_type": "markdown",
   "metadata": {},
   "source": [
    "## DES data processing"
   ]
  },
  {
   "cell_type": "code",
   "execution_count": 3,
   "metadata": {
    "collapsed": true
   },
   "outputs": [],
   "source": [
    "%matplotlib inline \n",
    "\n",
    "import numpy as np\n",
    "import matplotlib.pyplot as plt\n",
    "\n",
    "from astropy.io import fits\n",
    "from scipy import ndimage\n",
    "import math\n",
    "\n",
    "plt.rcParams['figure.figsize'] = (14, 5)\n",
    "plt.rcParams.update({'font.size': 13})\n"
   ]
  },
  {
   "cell_type": "code",
   "execution_count": 6,
   "metadata": {},
   "outputs": [
    {
     "name": "stdout",
     "output_type": "stream",
     "text": [
      "Filename: ../DES_data/cat_DES_SV_zmean_final.fits\n",
      "No.    Name      Ver    Type      Cards   Dimensions   Format\n",
      "  0  PRIMARY       1 PrimaryHDU       4   ()      \n",
      "  1                1 BinTableHDU     26   1628663R x 9C   [D, D, D, D, D, D, D, D, D]   \n"
     ]
    },
    {
     "data": {
      "text/plain": [
       "ColDefs(\n",
       "    name = 'ra_gal'; format = 'D'\n",
       "    name = 'dec_gal'; format = 'D'\n",
       "    name = 'zmean'; format = 'D'\n",
       "    name = 'e1_gal'; format = 'D'\n",
       "    name = 'e2_gal'; format = 'D'\n",
       "    name = 'e1_gal_sens'; format = 'D'\n",
       "    name = 'e2_gal_sens'; format = 'D'\n",
       "    name = 'coad_id'; format = 'D'\n",
       "    name = 'sens_avg'; format = 'D'\n",
       ")"
      ]
     },
     "execution_count": 6,
     "metadata": {},
     "output_type": "execute_result"
    }
   ],
   "source": [
    "# Compute the power spectrum of true kappa map\n",
    "\n",
    "kim = fits.open('../DES_data/cat_DES_SV_zmean_final.fits')\n",
    "kim.info()\n",
    "kim[1].columns\n"
   ]
  }
 ],
 "metadata": {
  "kernelspec": {
   "display_name": "Python 3",
   "language": "python",
   "name": "python3"
  },
  "language_info": {
   "codemirror_mode": {
    "name": "ipython",
    "version": 3
   },
   "file_extension": ".py",
   "mimetype": "text/x-python",
   "name": "python",
   "nbconvert_exporter": "python",
   "pygments_lexer": "ipython3",
   "version": "3.6.7"
  }
 },
 "nbformat": 4,
 "nbformat_minor": 2
}
